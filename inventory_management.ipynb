{
 "cells": [
  {
   "cell_type": "code",
   "execution_count": 2,
   "id": "675d6fd2",
   "metadata": {},
   "outputs": [],
   "source": [
    "import json\n",
    "fd=open(\"listforinventory.json\",\"w\")"
   ]
  },
  {
   "cell_type": "code",
   "execution_count": 3,
   "id": "98f56f82",
   "metadata": {},
   "outputs": [],
   "source": [
    "inventory = {\n",
    "    1191 : {\"item\": \"dairymilk(s)\" , \"price\" : 20 , \"quantity\" : 10 , \"category\": \"chocolate\", \"rating\" : 7},\n",
    "    1192 : {\"item\": \"dairymilk(m)\" , \"price\" : 40 , \"quantity\" : 100 , \"category\": \"chocolate\", \"rating\" : 8},\n",
    "    1193 : {\"item\": \"dairymilk(l)\" , \"price\" : 100 , \"quantity\" : 50 , \"category\": \"chocolate\", \"rating\" : 8},\n",
    "    1194 : {\"item\": \"barone(s)\" , \"price\" : 10 , \"quantity\" : 200 , \"category\": \"chocolate\", \"rating\" : 6},\n",
    "    1195 : {\"item\": \"barone(m)\" , \"price\" : 40 , \"quantity\" : 75 , \"category\":\"chocolate\" , \"rating\" : 7},\n",
    "    1196 : {\"item\": \"barone(l)\" , \"price\" : 80 , \"quantity\" : 50 , \"category\": \"chocolate\" , \"rating\" : 8},\n",
    "    1197 : {\"item\": \"clinicplus\" , \"price\" : 1 , \"quantity\" : 500 , \"category\": \"shampoo\" , \"rating\" : 6},\n",
    "    1198 : {\"item\": \"clinicplusbottle\" , \"price\" : 150 , \"quantity\" : 50 , \"category\": \"shampoo\", \"rating\" : 6},\n",
    "    1199 : {\"item\": \"dettolsoap\" , \"price\" : 20 , \"quantity\" : 100 , \"category\": \"soap\" , \"rating\" : 9},\n",
    "    1200 : {\"item\": \"dettolhandwash\" , \"price\" : 80 , \"quantity\" : 30 , \"category\": \"handwash\" , \"rating\" : 9},\n",
    "    1201 : {\"item\": \"dettolbottle\" , \"price\" : 80 , \"quantity\" : 100 , \"category\": \"medicine\" , \"rating\" : 9},\n",
    "    1202 : {\"item\": \"paracetamol\" , \"price\" : 40 , \"quantity\" : 10 , \"category\": \"medicine\", \"rating\" : 8},\n",
    "    1203 : {\"item\": \"potato\" , \"price\" : 10 , \"quantity\" : 100 , \"category\": \"vegetable\", \"rating\" : 8},\n",
    "    1204 : {\"item\": \"5star(s)\" , \"price\" : 10 , \"quantity\" : 100 , \"category\": \"chocolate\", \"rating\" : 8},\n",
    "    1205 : {\"item\": \"5star(m)\" , \"price\" : 20 , \"quantity\" : 100 , \"category\": \"chocolate\", \"rating\" : 8},\n",
    "    1206 : {\"item\": \"5star(l)\" , \"price\" : 40 , \"quantity\" : 50 , \"category\": \"chocolate\", \"rating\" : 8},\n",
    "    1207 : {\"item\": \"kitkat(s)\" , \"price\" : 10 , \"quantity\" : 300 , \"category\": \"chocolate\", \"rating\" : 7},\n",
    "    1208 : {\"item\": \"kitkat(m)\" , \"price\" : 40 , \"quantity\" : 400 , \"category\": \"chocolate\", \"rating\" : 9},\n",
    "    1209 : {\"item\": \"sneakers\" , \"price\" : 10 , \"quantity\" : 500 , \"category\": \"chocolate\", \"rating\" : 6},\n",
    "    1210 : {\"item\": \"centerfresh\" , \"price\" : 1 , \"quantity\" : 1000 , \"category\": \"toffee\", \"rating\" : 7},\n",
    "    1211 : {\"item\": \"centerfruit\" , \"price\" : 1 , \"quantity\" : 1000 , \"category\": \"toffee\", \"rating\" : 8},\n",
    "    1212 : {\"item\": \"chocobar\" , \"price\" : 10 , \"quantity\" : 200 , \"category\": \"chocolate\", \"rating\" : 7},\n",
    "    1213 : {\"item\": \"pilotpen\" , \"price\" : 100 , \"quantity\" : 100 , \"category\": \"stationary\", \"rating\" : 9},\n",
    "    1214 : {\"item\": \"apsarapencil\" , \"price\" : 5 , \"quantity\" : 200 , \"category\": \"stationary\", \"rating\" : 9},\n",
    "    1215 : {\"item\": \"fair-copy\" , \"price\" : 70 , \"quantity\" : 80 , \"category\": \"stationary\", \"rating\" : 8},\n",
    "    1216 : {\"item\": \"rough-copy\" , \"price\" : 30 , \"quantity\" : 80 , \"category\": \"stationary\", \"rating\" : 7},\n",
    "    1217 : {\"item\": \"pencil-box\" , \"price\" : 100 , \"quantity\" : 90 , \"category\": \"stationary\", \"rating\" : 9},\n",
    "    1218 : {\"item\": \"colors\" , \"price\" : 120 , \"quantity\" : 40 , \"category\": \"stationary\", \"rating\" : 8},\n",
    "    1219 : {\"item\": \"fevicol(m)\" , \"price\" : 20 , \"quantity\" : 100 , \"category\": \"stationary\", \"rating\" : 9},\n",
    "    1220 : {\"item\": \"fevicol(l)\" , \"price\" : 50 , \"quantity\" : 300 , \"category\": \"stationary\", \"rating\" : 9}\n",
    "    \n",
    "}\n",
    "js = json.dumps(inventory)"
   ]
  },
  {
   "cell_type": "code",
   "execution_count": 4,
   "id": "975ff79c",
   "metadata": {},
   "outputs": [
    {
     "data": {
      "text/plain": [
       "'{\"1191\": {\"item\": \"dairymilk(s)\", \"price\": 20, \"quantity\": 10, \"category\": \"chocolate\", \"rating\": 7}, \"1192\": {\"item\": \"dairymilk(m)\", \"price\": 40, \"quantity\": 100, \"category\": \"chocolate\", \"rating\": 8}, \"1193\": {\"item\": \"dairymilk(l)\", \"price\": 100, \"quantity\": 50, \"category\": \"chocolate\", \"rating\": 8}, \"1194\": {\"item\": \"barone(s)\", \"price\": 10, \"quantity\": 200, \"category\": \"chocolate\", \"rating\": 6}, \"1195\": {\"item\": \"barone(m)\", \"price\": 40, \"quantity\": 75, \"category\": \"chocolate\", \"rating\": 7}, \"1196\": {\"item\": \"barone(l)\", \"price\": 80, \"quantity\": 50, \"category\": \"chocolate\", \"rating\": 8}, \"1197\": {\"item\": \"clinicplus\", \"price\": 1, \"quantity\": 500, \"category\": \"shampoo\", \"rating\": 6}, \"1198\": {\"item\": \"clinicplusbottle\", \"price\": 150, \"quantity\": 50, \"category\": \"shampoo\", \"rating\": 6}, \"1199\": {\"item\": \"dettolsoap\", \"price\": 20, \"quantity\": 100, \"category\": \"soap\", \"rating\": 9}, \"1200\": {\"item\": \"dettolhandwash\", \"price\": 80, \"quantity\": 30, \"category\": \"handwash\", \"rating\": 9}, \"1201\": {\"item\": \"dettolbottle\", \"price\": 80, \"quantity\": 100, \"category\": \"medicine\", \"rating\": 9}, \"1202\": {\"item\": \"paracetamol\", \"price\": 40, \"quantity\": 10, \"category\": \"medicine\", \"rating\": 8}, \"1203\": {\"item\": \"potato\", \"price\": 10, \"quantity\": 100, \"category\": \"vegetable\", \"rating\": 8}, \"1204\": {\"item\": \"5star(s)\", \"price\": 10, \"quantity\": 100, \"category\": \"chocolate\", \"rating\": 8}, \"1205\": {\"item\": \"5star(m)\", \"price\": 20, \"quantity\": 100, \"category\": \"chocolate\", \"rating\": 8}, \"1206\": {\"item\": \"5star(l)\", \"price\": 40, \"quantity\": 50, \"category\": \"chocolate\", \"rating\": 8}, \"1207\": {\"item\": \"kitkat(s)\", \"price\": 10, \"quantity\": 300, \"category\": \"chocolate\", \"rating\": 7}, \"1208\": {\"item\": \"kitkat(m)\", \"price\": 40, \"quantity\": 400, \"category\": \"chocolate\", \"rating\": 9}, \"1209\": {\"item\": \"sneakers\", \"price\": 10, \"quantity\": 500, \"category\": \"chocolate\", \"rating\": 6}, \"1210\": {\"item\": \"centerfresh\", \"price\": 1, \"quantity\": 1000, \"category\": \"toffee\", \"rating\": 7}, \"1211\": {\"item\": \"centerfruit\", \"price\": 1, \"quantity\": 1000, \"category\": \"toffee\", \"rating\": 8}, \"1212\": {\"item\": \"chocobar\", \"price\": 10, \"quantity\": 200, \"category\": \"chocolate\", \"rating\": 7}, \"1213\": {\"item\": \"pilotpen\", \"price\": 100, \"quantity\": 100, \"category\": \"stationary\", \"rating\": 9}, \"1214\": {\"item\": \"apsarapencil\", \"price\": 5, \"quantity\": 200, \"category\": \"stationary\", \"rating\": 9}, \"1215\": {\"item\": \"fair-copy\", \"price\": 70, \"quantity\": 80, \"category\": \"stationary\", \"rating\": 8}, \"1216\": {\"item\": \"rough-copy\", \"price\": 30, \"quantity\": 80, \"category\": \"stationary\", \"rating\": 7}, \"1217\": {\"item\": \"pencil-box\", \"price\": 100, \"quantity\": 90, \"category\": \"stationary\", \"rating\": 9}, \"1218\": {\"item\": \"colors\", \"price\": 120, \"quantity\": 40, \"category\": \"stationary\", \"rating\": 8}, \"1219\": {\"item\": \"fevicol(m)\", \"price\": 20, \"quantity\": 100, \"category\": \"stationary\", \"rating\": 9}, \"1220\": {\"item\": \"fevicol(l)\", \"price\": 50, \"quantity\": 300, \"category\": \"stationary\", \"rating\": 9}}'"
      ]
     },
     "execution_count": 4,
     "metadata": {},
     "output_type": "execute_result"
    }
   ],
   "source": [
    "js"
   ]
  },
  {
   "cell_type": "code",
   "execution_count": 5,
   "id": "9ae2bd73",
   "metadata": {},
   "outputs": [
    {
     "data": {
      "text/plain": [
       "2978"
      ]
     },
     "execution_count": 5,
     "metadata": {},
     "output_type": "execute_result"
    }
   ],
   "source": [
    "fd.write(js)"
   ]
  },
  {
   "cell_type": "code",
   "execution_count": 6,
   "id": "8c1eaa7f",
   "metadata": {},
   "outputs": [],
   "source": [
    "fd.close()"
   ]
  },
  {
   "cell_type": "code",
   "execution_count": 8,
   "id": "07f80c90",
   "metadata": {},
   "outputs": [
    {
     "name": "stdout",
     "output_type": "stream",
     "text": [
      "enter the number of quantity you want to buy5\n",
      "enter the id1191\n",
      "enter the quantity of product6\n",
      "enter the id1198\n",
      "enter the quantity of product8\n",
      "enter the id1197\n",
      "enter the quantity of product7\n",
      "enter the id1200\n",
      "enter the quantity of product9\n",
      "enter the id1212\n",
      "enter the quantity of product6\n"
     ]
    },
    {
     "data": {
      "text/plain": [
       "25"
      ]
     },
     "execution_count": 8,
     "metadata": {},
     "output_type": "execute_result"
    }
   ],
   "source": [
    "fi = open(\"order.txt\",\"w\")\n",
    "value =int(input(\"enter the number of quantity you want to buy\"))\n",
    "fd = open(\"listforinventory.json\",\"r\")\n",
    "read = fd.read()\n",
    "receipt = json.loads(read)\n",
    "excli = \"\\nyou just bought\\t\"\n",
    "\n",
    "total_bill=0\n",
    "for i in range(value):\n",
    "    pd_id = str(input(\"enter the id\"))\n",
    "    quan = int(input(\"enter the quantity of product\"))\n",
    "    if quan<receipt[pd_id][\"quantity\"]:\n",
    "        receipt[pd_id][\"quantity\"]=receipt[pd_id][\"quantity\"]-quan\n",
    "        total_bill+=quan*receipt[pd_id][\"price\"]\n",
    "        \n",
    "    fi.write(\"you just bought {} of {} with product name {} and category {}\\n \".format( str(quan) , str(pd_id) , str(receipt[pd_id][\"item\"]) , str(receipt[pd_id][\"category\"]) ))\n",
    "    \n",
    "fi.write('\\n your total bill is {}'.format(str(total_bill)))"
   ]
  },
  {
   "cell_type": "code",
   "execution_count": null,
   "id": "c4ece4ee",
   "metadata": {},
   "outputs": [],
   "source": []
  }
 ],
 "metadata": {
  "kernelspec": {
   "display_name": "Python 3",
   "language": "python",
   "name": "python3"
  },
  "language_info": {
   "codemirror_mode": {
    "name": "ipython",
    "version": 3
   },
   "file_extension": ".py",
   "mimetype": "text/x-python",
   "name": "python",
   "nbconvert_exporter": "python",
   "pygments_lexer": "ipython3",
   "version": "3.8.8"
  }
 },
 "nbformat": 4,
 "nbformat_minor": 5
}
